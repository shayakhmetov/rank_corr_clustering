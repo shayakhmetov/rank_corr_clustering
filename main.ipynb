{
 "cells": [
  {
   "cell_type": "code",
   "execution_count": 1,
   "metadata": {
    "collapsed": false
   },
   "outputs": [
    {
     "data": {
      "text/plain": [
       "('0.17.1', '0.17', '1.10.4')"
      ]
     },
     "execution_count": 1,
     "metadata": {},
     "output_type": "execute_result"
    }
   ],
   "source": [
    "import pandas as pd\n",
    "import numpy as np\n",
    "import scipy.sparse\n",
    "import scipy.stats\n",
    "import sklearn.metrics\n",
    "from sklearn.grid_search import GridSearchCV\n",
    "from sklearn.preprocessing import LabelEncoder\n",
    "from sklearn.cluster import DBSCAN, KMeans, SpectralClustering\n",
    "import os, gc, re\n",
    "import pylab as pl\n",
    "import seaborn as sns\n",
    "\n",
    "%matplotlib inline\n",
    "pl.rcParams['figure.figsize'] = 10, 5\n",
    "pd.__version__, sklearn.__version__, np.__version__"
   ]
  },
  {
   "cell_type": "code",
   "execution_count": 2,
   "metadata": {
    "collapsed": true
   },
   "outputs": [],
   "source": [
    "def memory_usage(df, ret=False, print_usage=True):\n",
    "    if type(df) == pd.core.frame.DataFrame:\n",
    "        m = df.memory_usage(index=True, deep=True).sum()/2**20\n",
    "    elif type(df) == np.ndarray:\n",
    "        m = df.nbytes/2**20\n",
    "    else:\n",
    "        m = df.data.nbytes/2**20\n",
    "    if print_usage:\n",
    "        print(m, 'Mb,', 'with shape =', df.shape)\n",
    "    if ret:\n",
    "        return m"
   ]
  },
  {
   "cell_type": "code",
   "execution_count": 3,
   "metadata": {
    "collapsed": false
   },
   "outputs": [],
   "source": [
    "def read_tosvmr(filename):\n",
    "    if os.stat(filename).st_size == 0:\n",
    "        return None\n",
    "    df = pd.read_csv(filename, sep=' ', header=None)\n",
    "    del df[7], df[6]\n",
    "    df.columns = ['Rank', 'QueryID', 'CTR', 'CTP',\n",
    "                  'Purchases', 'Turnover', 'ItemID']\n",
    "    df.QueryID = df.QueryID.str.extract('qid:(\\d+)').astype('int32')\n",
    "    df.Rank = df.Rank.astype('int8')\n",
    "    for i, col in enumerate(['CTR', 'CTP', 'Purchases', 'Turnover']):\n",
    "        df[col] = df[col].str.extract(str(i+1) + ':(.+)').astype('float16')\n",
    "    df.ItemID = df.ItemID.str.extract('item_id=(.+)')\n",
    "    return df"
   ]
  },
  {
   "cell_type": "code",
   "execution_count": null,
   "metadata": {
    "collapsed": false
   },
   "outputs": [],
   "source": [
    "data = pd.DataFrame()\n",
    "directory = '../data/svmr/'\n",
    "size = 0\n",
    "records = 0\n",
    "# max_Rank, max_QID, max_ItemID_len = 0, 0, 0 # (2, 309111, 36)\n",
    "# min_Rank, min_QID, min_ItemID_len = (2**63-1,)*3 # (1, 2, 36)\n",
    "for i, filename in enumerate([f for f in os.listdir(directory) if re.match('.+\\.tosvmr', f)]):\n",
    "    chunk = read_tosvmr(os.path.join(directory, filename))\n",
    "    if chunk is not None:\n",
    "        qid = chunk.groupby('QueryID').Rank.agg('unique')\n",
    "        qids = chunk.groupby('QueryID').Rank.nunique() > 1\n",
    "        qids = set(qids[qids].index)\n",
    "        chunk = chunk.ix[chunk.QueryID.isin(qids), ['Rank', 'QueryID', 'ItemID']]\n",
    "        data = data.append(chunk)\n",
    "        size += memory_usage(chunk, ret=True, print_usage=False)\n",
    "        records += chunk.shape[0]\n",
    "        if i % 20 == 0:\n",
    "            print(i+1, 'file', filename)\n",
    "            print('memory =', size, 'Mb', 'Records =', records)\n",
    "    del chunk\n",
    "print('TOTAL', 'memory =', size, 'Mb. Records =', records)"
   ]
  },
  {
   "cell_type": "code",
   "execution_count": null,
   "metadata": {
    "collapsed": true
   },
   "outputs": [],
   "source": [
    "data_filename = '../data/data.csv'\n",
    "data.to_csv(data_filename, index=False)\n"
   ]
  },
  {
   "cell_type": "code",
   "execution_count": null,
   "metadata": {
    "collapsed": false
   },
   "outputs": [],
   "source": [
    "# data = read_tosvmr('../data/svmr/111AF73E-67E3-4E6E-BB32-3A7FB9B2F08A.tosvmr')\n",
    "# qid = data.groupby('QueryID').Rank.agg('unique')\n",
    "# qids = data.groupby('QueryID').Rank.nunique() > 1\n",
    "# qids = set(qids[qids].index)\n",
    "# data = data.ix[data.QueryID.isin(qids)]\n",
    "# memory_usage(data)\n",
    "# data.head()"
   ]
  },
  {
   "cell_type": "code",
   "execution_count": 4,
   "metadata": {
    "collapsed": false
   },
   "outputs": [
    {
     "name": "stdout",
     "output_type": "stream",
     "text": [
      "2201.1405811309814 Mb, with shape = (21774181, 3)\n"
     ]
    },
    {
     "data": {
      "text/html": [
       "<div>\n",
       "<table border=\"1\" class=\"dataframe\">\n",
       "  <thead>\n",
       "    <tr style=\"text-align: right;\">\n",
       "      <th></th>\n",
       "      <th>Rank</th>\n",
       "      <th>QueryID</th>\n",
       "      <th>ItemID</th>\n",
       "    </tr>\n",
       "  </thead>\n",
       "  <tbody>\n",
       "    <tr>\n",
       "      <th>0</th>\n",
       "      <td>1</td>\n",
       "      <td>3220</td>\n",
       "      <td>B4180163-1E4B-4B7C-975E-7C99444C777B</td>\n",
       "    </tr>\n",
       "    <tr>\n",
       "      <th>1</th>\n",
       "      <td>1</td>\n",
       "      <td>3220</td>\n",
       "      <td>C19DF510-FD11-41AD-A794-2A1A58A4B9EF</td>\n",
       "    </tr>\n",
       "    <tr>\n",
       "      <th>2</th>\n",
       "      <td>1</td>\n",
       "      <td>3220</td>\n",
       "      <td>3FAFD53D-066E-49FA-B1DD-34ED9E592A17</td>\n",
       "    </tr>\n",
       "    <tr>\n",
       "      <th>3</th>\n",
       "      <td>1</td>\n",
       "      <td>3220</td>\n",
       "      <td>5978FEBB-DB0D-4EE9-B2E8-C5CAFEE23279</td>\n",
       "    </tr>\n",
       "    <tr>\n",
       "      <th>4</th>\n",
       "      <td>1</td>\n",
       "      <td>3220</td>\n",
       "      <td>A31CFDA1-CFA2-4AA8-836D-783DBE451694</td>\n",
       "    </tr>\n",
       "  </tbody>\n",
       "</table>\n",
       "</div>"
      ],
      "text/plain": [
       "   Rank  QueryID                                ItemID\n",
       "0     1     3220  B4180163-1E4B-4B7C-975E-7C99444C777B\n",
       "1     1     3220  C19DF510-FD11-41AD-A794-2A1A58A4B9EF\n",
       "2     1     3220  3FAFD53D-066E-49FA-B1DD-34ED9E592A17\n",
       "3     1     3220  5978FEBB-DB0D-4EE9-B2E8-C5CAFEE23279\n",
       "4     1     3220  A31CFDA1-CFA2-4AA8-836D-783DBE451694"
      ]
     },
     "execution_count": 4,
     "metadata": {},
     "output_type": "execute_result"
    }
   ],
   "source": [
    "data_filename = '../data/data.csv'\n",
    "data = pd.read_csv(data_filename, dtype={'QueryID': 'int32', 'Rank': 'int8'})\n",
    "memory_usage(data)\n",
    "data.head()"
   ]
  },
  {
   "cell_type": "code",
   "execution_count": 5,
   "metadata": {
    "collapsed": false
   },
   "outputs": [
    {
     "data": {
      "text/plain": [
       "count    66660.000000\n",
       "mean       322.667972\n",
       "std        393.395824\n",
       "min          2.000000\n",
       "25%        100.000000\n",
       "50%        197.000000\n",
       "75%        390.000000\n",
       "max       8946.000000\n",
       "Name: ItemID, dtype: float64"
      ]
     },
     "execution_count": 5,
     "metadata": {},
     "output_type": "execute_result"
    }
   ],
   "source": [
    "data.groupby('QueryID').ItemID.nunique().describe()"
   ]
  },
  {
   "cell_type": "code",
   "execution_count": 6,
   "metadata": {
    "collapsed": false
   },
   "outputs": [
    {
     "name": "stdout",
     "output_type": "stream",
     "text": [
      "41.025251388549805 Mb, with shape = (66660, 405632)\n"
     ]
    }
   ],
   "source": [
    "queryID_encoder, itemID_encoder = LabelEncoder(), LabelEncoder()\n",
    "S = scipy.sparse.coo_matrix((data.Rank.values, \n",
    "                             (queryID_encoder.fit_transform(data.QueryID.values),\n",
    "                              itemID_encoder.fit_transform(data.ItemID.values)))).tocsr().astype('int16')\n",
    "memory_usage(S)\n"
   ]
  },
  {
   "cell_type": "code",
   "execution_count": 7,
   "metadata": {
    "collapsed": false
   },
   "outputs": [
    {
     "data": {
      "text/plain": [
       "108"
      ]
     },
     "execution_count": 7,
     "metadata": {},
     "output_type": "execute_result"
    }
   ],
   "source": [
    "del data\n",
    "gc.collect()"
   ]
  },
  {
   "cell_type": "markdown",
   "metadata": {},
   "source": [
    "### How many quieries have particular length of items?"
   ]
  },
  {
   "cell_type": "code",
   "execution_count": null,
   "metadata": {
    "collapsed": false
   },
   "outputs": [],
   "source": [
    "items_length = pd.Series(np.array(S.sum(axis=1)).reshape(S.shape[0]))\n",
    "pl.hist(items_length, bins=100)\n",
    "pl.xlabel('#items')\n",
    "pl.ylabel('#users which have particular #items')\n",
    "pl.savefig('../plots/user_number_items.png')\n"
   ]
  },
  {
   "cell_type": "code",
   "execution_count": null,
   "metadata": {
    "collapsed": true
   },
   "outputs": [],
   "source": [
    "def intersection_size(x, y):\n",
    "    return len(set(x.indices).intersection(set(y.indices)))"
   ]
  },
  {
   "cell_type": "code",
   "execution_count": 96,
   "metadata": {
    "collapsed": false
   },
   "outputs": [
    {
     "name": "stdout",
     "output_type": "stream",
     "text": [
      " is there a nan value?  False\n",
      "7.62939453125 Mb, with shape = (1000, 1000)\n"
     ]
    }
   ],
   "source": [
    "%prun intersection_matrix = sklearn.metrics.pairwise_distances(S[:1000], metric=intersection_size)\n",
    "print('is there a nan value? ', np.isnan(intersection_matrix).any())\n",
    "memory_usage(intersection_matrix)"
   ]
  },
  {
   "cell_type": "code",
   "execution_count": 17,
   "metadata": {
    "collapsed": true
   },
   "outputs": [],
   "source": [
    "def plot_distance_values(distance_matrix, xlabel='distance', ret=False, bins=100, xlim=None, ylim=None):\n",
    "    i, j = np.triu_indices(distance_matrix.shape[0])\n",
    "    values = distance_matrix[i[i != j], j[j != i]]\n",
    "    n, bins, patches = pl.hist(values, bins=bins)\n",
    "    pl.xlabel(xlabel)\n",
    "    pl.ylabel('number of pairs')\n",
    "    if xlim:\n",
    "        pl.xlim(xlim)\n",
    "    if ylim:\n",
    "        pl.ylim(ylim)\n",
    "    if ret:\n",
    "        return pd.Series(values)"
   ]
  },
  {
   "cell_type": "code",
   "execution_count": 103,
   "metadata": {
    "collapsed": false
   },
   "outputs": [
    {
     "data": {
      "image/png": "[encoded data removed]",
      "text/plain": [
       "<matplotlib.figure.Figure at 0x7fcc8e5234a8>"
      ]
     },
     "metadata": {},
     "output_type": "display_data"
    }
   ],
   "source": [
    "plot_distance_values(intersection_matrix, 'intersection size', bins=1000, ylim=[0,3000], xlim=[1,150])\n",
    "pl.savefig('../plots/intersection_sizes_zoomed.png')"
   ]
  },
  {
   "cell_type": "code",
   "execution_count": 31,
   "metadata": {
    "collapsed": false
   },
   "outputs": [
    {
     "data": {
      "text/plain": [
       "array([   140,   3760,   4546,   7518,   9333,  12939,  15016,  17052,\n",
       "        18061,  27807,  28620,  40664,  43261,  47095,  52207,  54602,\n",
       "        59622,  61240,  68621,  69719,  69836,  70314,  73195,  76081,\n",
       "        77927,  79942,  82049,  86463,  98656, 110946, 115779, 124418,\n",
       "       126983, 136660, 143769, 145826, 149240, 150087, 156115, 158402,\n",
       "       160119, 171410, 173181, 185265, 185416, 186826, 195864, 196901,\n",
       "       202654, 204301, 207410, 210249, 211647, 214373, 219176, 219292,\n",
       "       228238, 234241, 235774, 238561, 241775, 247485, 252401, 259328,\n",
       "       260048, 265486, 268027, 269250, 269605, 276504, 279618, 279668,\n",
       "       296590, 296877, 299705, 306517, 312113, 314153, 322742, 328740,\n",
       "       337259, 338788, 351420, 363013, 368577, 370924, 371241, 372511,\n",
       "       374066, 377178, 379027, 383925, 385235, 385617, 385710, 388577,\n",
       "       390699, 392328, 394407, 403316], dtype=int32)"
      ]
     },
     "execution_count": 31,
     "metadata": {},
     "output_type": "execute_result"
    }
   ],
   "source": [
    "S[0].indices"
   ]
  },
  {
   "cell_type": "code",
   "execution_count": 114,
   "metadata": {
    "collapsed": true
   },
   "outputs": [],
   "source": [
    "def kendalltau_distance(x, y):\n",
    "    mask_x = np.in1d(x.indices, y.indices)\n",
    "    mask_y = np.in1d(y.indices, x.indices)\n",
    "    vector_x = x.data[mask_x]\n",
    "    vector_y = y.data[mask_y]\n",
    "    intersection_size = mask_x.sum()\n",
    "    if np.unique(vector_x).shape[0] == 1 or np.unique(vector_y).shape[0] == 1:\n",
    "        vector_x = np.append(vector_x, [0])\n",
    "        vector_y = np.append(vector_y, [0])\n",
    "    if intersection_size == 0:\n",
    "        tau = 0\n",
    "    else:\n",
    "        tau, pvalue = scipy.stats.kendalltau(vector_x, vector_y)\n",
    "    return 1 - tau"
   ]
  },
  {
   "cell_type": "code",
   "execution_count": 129,
   "metadata": {
    "collapsed": false
   },
   "outputs": [],
   "source": [
    "n_queries = 1000\n",
    "X = S[:n_queries, :]\n",
    "# X = S"
   ]
  },
  {
   "cell_type": "code",
   "execution_count": 125,
   "metadata": {
    "collapsed": false
   },
   "outputs": [
    {
     "name": "stdout",
     "output_type": "stream",
     "text": [
      " is there a nan value?  False\n",
      "762.939453125 Mb, with shape = (10000, 10000)\n"
     ]
    }
   ],
   "source": [
    "%prun distance_matrix = sklearn.metrics.pairwise_distances(X, metric='euclidean')\n",
    "print('is there a nan value? ', np.isnan(distance_matrix).any())\n",
    "memory_usage(distance_matrix)"
   ]
  },
  {
   "cell_type": "code",
   "execution_count": 131,
   "metadata": {
    "collapsed": false
   },
   "outputs": [],
   "source": [
    "%prun distance_matrix = sklearn.metrics.pairwise_distances(X, metric=kendalltau_distance)\n",
    "print('is there a nan value? ', np.isnan(distance_matrix).any())\n",
    "memory_usage(distance_matrix)"
   ]
  },
  {
   "cell_type": "code",
   "execution_count": null,
   "metadata": {
    "collapsed": false
   },
   "outputs": [],
   "source": [
    "distance_matrix_filename = '../data/distance_matrix1000_kt.csv'\n",
    "np.savetxt(distance_matrix_filename, distance_matrix, delimiter=';', fmt='%g')\n",
    "print(distance_matrix_filename, 'created')"
   ]
  },
  {
   "cell_type": "code",
   "execution_count": 128,
   "metadata": {
    "collapsed": false
   },
   "outputs": [],
   "source": [
    "plot_distance_values(distance_matrix, bins=100, ylim=[0, 5000])"
   ]
  },
  {
   "cell_type": "markdown",
   "metadata": {},
   "source": [
    "<ul>\n",
    "<li>FORMAT g (distance matrices) <b> Done </b></li>\n",
    "<li>check alternative to numpy in1d</li>\n",
    "<li>increase version of text <b>Done</b></li>\n",
    "<li>histogram of distance into the text <b>Done</b></li>\n",
    "<li>item-user histogram. how many users have information (by number of items) <b>Done</b></li>\n",
    "<li>Read the article </li>\n",
    "</ul>"
   ]
  },
  {
   "cell_type": "code",
   "execution_count": 3,
   "metadata": {
    "collapsed": false
   },
   "outputs": [],
   "source": [
    "distance_matrix_filename = '../data/distance_matrix3000.csv'\n",
    "distance_matrix = np.loadtxt(distance_matrix_filename, delimiter=';')"
   ]
  },
  {
   "cell_type": "code",
   "execution_count": 11,
   "metadata": {
    "collapsed": false
   },
   "outputs": [],
   "source": [
    "# pl.hist(distance_matrix.sum(axis=1), bins=100)\n",
    "# pl.vlines(distance_matrix.shape[0] - 1, 0, 250, colors='r')"
   ]
  },
  {
   "cell_type": "markdown",
   "metadata": {},
   "source": [
    "# Plotting results\n"
   ]
  },
  {
   "cell_type": "code",
   "execution_count": 17,
   "metadata": {
    "collapsed": false
   },
   "outputs": [],
   "source": [
    "def plot_silhouettes(silhouette_values, labels):\n",
    "    clusters = np.unique(labels)\n",
    "    pl.figure()\n",
    "    pl.title(str(clusters.shape[0]) + ' clusters. Avg silhouette =' + ('%.5f' % silhouette_values.mean()))\n",
    "    y_lower = 20\n",
    "    for i in clusters:\n",
    "        cluster_silhouette_values = np.sort(silhouette_values[labels == i])\n",
    "        y_upper = y_lower + cluster_silhouette_values.shape[0]\n",
    "\n",
    "        cluster_silhouette_values = np.sort(silhouette_values[labels == i])\n",
    "        pl.fill_betweenx(np.arange(y_lower,y_upper),\n",
    "                           0, cluster_silhouette_values, facecolor=pl.cm.spectral(i/clusters.shape[0]), alpha=0.6)\n",
    "        pl.text(-0.05, y_lower + 0.5 * cluster_silhouette_values.shape[0], str(i))\n",
    "        y_lower = y_upper + 10\n",
    "    pl.axvline(x=silhouette_values.mean(), color=\"red\", linestyle=\"--\")    "
   ]
  },
  {
   "cell_type": "code",
   "execution_count": 25,
   "metadata": {
    "collapsed": false
   },
   "outputs": [
    {
     "name": "stdout",
     "output_type": "stream",
     "text": [
      "silhouette = -0.0209838540335\n"
     ]
    },
    {
     "data": {
      "image/png": "[encoded data removed]",
      "text/plain": [
       "<matplotlib.figure.Figure at 0x7f092174dc18>"
      ]
     },
     "metadata": {},
     "output_type": "display_data"
    },
    {
     "data": {
      "image/png": "[encoded data removed]",
      "text/plain": [
       "<matplotlib.figure.Figure at 0x7f0921622668>"
      ]
     },
     "metadata": {},
     "output_type": "display_data"
    }
   ],
   "source": [
    "remove_noise = False\n",
    "clustering = DBSCAN(metric='precomputed', eps=11, min_samples=5)\n",
    "labels = clustering.fit_predict(distance_matrix)\n",
    "if remove_noise:\n",
    "    labels = labels[labels >= 0]\n",
    "pd.Series(labels).value_counts().sort_index().plot(kind='bar')\n",
    "pl.xlabel('cluster')\n",
    "pl.ylabel('number of objects')\n",
    "silhouette_values = sklearn.metrics.silhouette_samples(distance_matrix, labels, metric='precomputed')\n",
    "print('silhouette =', silhouette_values.mean())\n",
    "plot_silhouettes(silhouette_values, labels)"
   ]
  },
  {
   "cell_type": "markdown",
   "metadata": {},
   "source": [
    "# KMeans with SVD and euclidian metric"
   ]
  },
  {
   "cell_type": "code",
   "execution_count": 56,
   "metadata": {
    "collapsed": false
   },
   "outputs": [
    {
     "data": {
      "text/plain": [
       "((3000, 2), (2,), (2, 405632))"
      ]
     },
     "execution_count": 56,
     "metadata": {},
     "output_type": "execute_result"
    }
   ],
   "source": [
    "u,s,v = scipy.sparse.linalg.svds(X.astype('f'), k=2)\n",
    "u.shape, s.shape, v.shape"
   ]
  },
  {
   "cell_type": "code",
   "execution_count": null,
   "metadata": {
    "collapsed": false
   },
   "outputs": [],
   "source": [
    "sns.pairplot(u[:, 0], u[:, 1])"
   ]
  },
  {
   "cell_type": "code",
   "execution_count": null,
   "metadata": {
    "collapsed": false
   },
   "outputs": [],
   "source": [
    "ks = np.arange(2,25)\n",
    "silhouettes = np.zeros(ks.shape[0])\n",
    "for i, k in enumerate(ks):\n",
    "    clustering = KMeans(n_clusters=k)\n",
    "    labels = clustering.fit_predict(u)\n",
    "    if remove_noise:\n",
    "        labels = labels[labels >= 0]\n",
    "    silhouettes[i] = sklearn.metrics.silhouette_score(u, labels)\n",
    "    print(k, silhouettes[i])\n",
    "pl.plot(ks, silhouettes, '--*')\n",
    "pl.xlabel('alpha')\n",
    "pl.ylabel('average silhouette')\n",
    "n_clusters = ks[np.argmax(silhouettes)]\n",
    "# n_clusters = 13"
   ]
  },
  {
   "cell_type": "code",
   "execution_count": null,
   "metadata": {
    "collapsed": false
   },
   "outputs": [],
   "source": [
    "clustering = KMeans(n_clusters=n_clusters)\n",
    "labels = clustering.fit_predict(u)\n",
    "if remove_noise:\n",
    "    labels = labels[labels >= 0]\n",
    "pd.Series(labels).value_counts().sort_index().plot(kind='bar')\n",
    "pl.xlabel('cluster')\n",
    "pl.ylabel('number of objects')\n",
    "silhouette_values = sklearn.metrics.silhouette_samples(u, labels)\n",
    "plot_silhouettes(silhouette_values, labels)\n"
   ]
  },
  {
   "cell_type": "code",
   "execution_count": null,
   "metadata": {
    "collapsed": false
   },
   "outputs": [],
   "source": [
    "clustering = KMeans(n_clusters=n_clusters)\n",
    "labels = clustering.fit_predict(u)\n",
    "df = pd.DataFrame(u[:, :5])\n",
    "df['labels'] = labels\n",
    "sns.pairplot(df, hue='labels')"
   ]
  }
 ],
 "metadata": {
  "kernelspec": {
   "display_name": "Python 3",
   "language": "python",
   "name": "python3"
  },
  "language_info": {
   "codemirror_mode": {
    "name": "ipython",
    "version": 3
   },
   "file_extension": ".py",
   "mimetype": "text/x-python",
   "name": "python",
   "nbconvert_exporter": "python",
   "pygments_lexer": "ipython3",
   "version": "3.5.1"
  }
 },
 "nbformat": 4,
 "nbformat_minor": 0
}
